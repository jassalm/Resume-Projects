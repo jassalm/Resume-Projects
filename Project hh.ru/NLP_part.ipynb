{
 "cells": [
  {
   "cell_type": "code",
   "execution_count": 2,
   "id": "3d6faf80-5190-4dbd-a770-0b98ca6272c2",
   "metadata": {},
   "outputs": [],
   "source": [
    "import numpy as np\n",
    "import pandas as pd\n",
    "from typing import  List\n",
    "import matplotlib.pyplot as plt\n",
    "import seaborn as sns\n",
    "from string import punctuation"
   ]
  },
  {
   "cell_type": "markdown",
   "id": "a420979d-c09a-421f-9beb-1ffe7f639f5c",
   "metadata": {},
   "source": [
    "В данном модуле мы будем работать с текстовым признаком, извелкать из него полезную информацию, чтобы далее предсказывать направление ваканскии (признак \"CФера\") используя текстовое описание вакансии (признак \"Обязанности\")"
   ]
  },
  {
   "cell_type": "markdown",
   "id": "d6bea271-0fa6-49d1-801c-c446458f8598",
   "metadata": {},
   "source": [
    "## Выгрузим данные"
   ]
  },
  {
   "cell_type": "code",
   "execution_count": 6,
   "id": "a9d257ce-cea2-4dbd-85d0-47a067b57ba7",
   "metadata": {},
   "outputs": [],
   "source": [
    "df = pd.read_csv('for_text.csv')"
   ]
  },
  {
   "cell_type": "code",
   "execution_count": 7,
   "id": "259042de-1c17-42c3-9251-63da7e8ca275",
   "metadata": {},
   "outputs": [],
   "source": [
    "df.drop('Unnamed: 0', axis=1, inplace=True)"
   ]
  },
  {
   "cell_type": "code",
   "execution_count": 8,
   "id": "34b6bb0c-6cc1-4111-810c-1ac633253f0c",
   "metadata": {},
   "outputs": [
    {
     "data": {
      "text/html": [
       "<div>\n",
       "<style scoped>\n",
       "    .dataframe tbody tr th:only-of-type {\n",
       "        vertical-align: middle;\n",
       "    }\n",
       "\n",
       "    .dataframe tbody tr th {\n",
       "        vertical-align: top;\n",
       "    }\n",
       "\n",
       "    .dataframe thead th {\n",
       "        text-align: right;\n",
       "    }\n",
       "</style>\n",
       "<table border=\"1\" class=\"dataframe\">\n",
       "  <thead>\n",
       "    <tr style=\"text-align: right;\">\n",
       "      <th></th>\n",
       "      <th>Обязанности</th>\n",
       "    </tr>\n",
       "  </thead>\n",
       "  <tbody>\n",
       "    <tr>\n",
       "      <th>0</th>\n",
       "      <td>Разработка простых интеграций для программы ло...</td>\n",
       "    </tr>\n",
       "    <tr>\n",
       "      <th>1</th>\n",
       "      <td>Участие в проектировании и реализации решений ...</td>\n",
       "    </tr>\n",
       "    <tr>\n",
       "      <th>2</th>\n",
       "      <td>Участвовать во всех этапах проекта: от проекти...</td>\n",
       "    </tr>\n",
       "    <tr>\n",
       "      <th>3</th>\n",
       "      <td>Разработка и внедрение &lt;highlighttext&gt;аналитик...</td>\n",
       "    </tr>\n",
       "    <tr>\n",
       "      <th>4</th>\n",
       "      <td>Ежедневный анализ децентрализованных и централ...</td>\n",
       "    </tr>\n",
       "  </tbody>\n",
       "</table>\n",
       "</div>"
      ],
      "text/plain": [
       "                                         Обязанности\n",
       "0  Разработка простых интеграций для программы ло...\n",
       "1  Участие в проектировании и реализации решений ...\n",
       "2  Участвовать во всех этапах проекта: от проекти...\n",
       "3  Разработка и внедрение <highlighttext>аналитик...\n",
       "4  Ежедневный анализ децентрализованных и централ..."
      ]
     },
     "execution_count": 8,
     "metadata": {},
     "output_type": "execute_result"
    }
   ],
   "source": [
    "df_text = df[['Обязанности']]   # оставим данный текстовый признак\n",
    "df_text.head()"
   ]
  },
  {
   "cell_type": "code",
   "execution_count": 9,
   "id": "f220f5a0-2bd8-43ad-924f-631c703c1425",
   "metadata": {},
   "outputs": [
    {
     "data": {
      "text/plain": [
       "'Искать инсайты, формировать и проверять продуктовые гипотезы. Дизайнить и анализировать A/B тесты. Составлять и визуализировать метрики (продуктовые и операционные). '"
      ]
     },
     "execution_count": 9,
     "metadata": {},
     "output_type": "execute_result"
    }
   ],
   "source": [
    "df['Обязанности'][100]"
   ]
  },
  {
   "cell_type": "markdown",
   "id": "4034f6a6-9939-488d-9136-f6991ae1aaf5",
   "metadata": {},
   "source": [
    "## Токенизация"
   ]
  },
  {
   "cell_type": "code",
   "execution_count": 10,
   "id": "6007d19b-8e0e-4ac3-b3c3-a19512eca2b9",
   "metadata": {},
   "outputs": [],
   "source": [
    "import warnings\n",
    "\n",
    "import nltk\n",
    "import pandas as pd\n",
    "from nltk.tokenize import word_tokenize\n",
    "\n",
    "import numpy as np\n",
    "import pandas as pd\n",
    "\n",
    "warnings.filterwarnings(\"ignore\")"
   ]
  },
  {
   "cell_type": "code",
   "execution_count": 11,
   "id": "8ee09dd6-4c0a-4532-a962-141f48ce2205",
   "metadata": {},
   "outputs": [
    {
     "data": {
      "text/plain": [
       "True"
      ]
     },
     "execution_count": 11,
     "metadata": {},
     "output_type": "execute_result"
    }
   ],
   "source": [
    "nltk.download(\"punkt\", quiet=True)"
   ]
  },
  {
   "cell_type": "markdown",
   "id": "0a2799fa-9257-4e8d-ac14-de0796bfe086",
   "metadata": {},
   "source": [
    "Сначала сделаем самую простую токинизацию - деления текстов по пробельным символам и приведение токенов в нижний регистр"
   ]
  },
  {
   "cell_type": "code",
   "execution_count": 12,
   "id": "550d6707-2ee0-419c-a65f-21718f102e57",
   "metadata": {},
   "outputs": [
    {
     "name": "stdout",
     "output_type": "stream",
     "text": [
      "['интегратор', 'обратной', 'технически', 'код-ревью', 'сопутствующей', 'business', 'заказчиков-инвесторов.', 'safeguard', 'микросервисная', 'нуля”.', 'старшим', 'инфраструктуре', 'инцидентов,', 'интерфейса', 'часто', 'stack.', 'бизнес-заказчикам.', 'научные', 'надёжности,', 'склад', 'ожиданиями.', 'работными', 'requests).', 'проекты,', 'маркетинга).']\n"
     ]
    }
   ],
   "source": [
    "dictionary = set() #для сохранения уникальных токенов\n",
    "all_w = [] #для хранения всех токенов, чтобы проверить, как часто они встречаются\n",
    "\n",
    "for line in df['Обязанности']:\n",
    "    words = line.split()\n",
    "    for word in words:\n",
    "        word = word.replace('...', '')\n",
    "        word = word.replace('<highlighttext>', '')\n",
    "        word = word.replace('</highlighttext>', '')\n",
    "        dictionary.add(word.lower())\n",
    "        all_w.append(word.lower())\n",
    "\n",
    "d = list(dictionary)\n",
    "print(d[:25])"
   ]
  },
  {
   "cell_type": "code",
   "execution_count": 13,
   "id": "cedae28d-fc70-46a8-b4fb-0535bb360fa4",
   "metadata": {},
   "outputs": [
    {
     "data": {
      "text/plain": [
       "6225"
      ]
     },
     "execution_count": 13,
     "metadata": {},
     "output_type": "execute_result"
    }
   ],
   "source": [
    "len(d) #уникальные токены"
   ]
  },
  {
   "cell_type": "code",
   "execution_count": 14,
   "id": "41c4316b-ad30-4534-ae18-592d3a212676",
   "metadata": {},
   "outputs": [
    {
     "data": {
      "text/plain": [
       "22520"
      ]
     },
     "execution_count": 14,
     "metadata": {},
     "output_type": "execute_result"
    }
   ],
   "source": [
    "len(all_w) #все токены"
   ]
  },
  {
   "cell_type": "code",
   "execution_count": 15,
   "id": "6aba19a9-2f26-45b6-9645-9c938fe0e633",
   "metadata": {},
   "outputs": [
    {
     "data": {
      "text/plain": [
       "[('и', 1397),\n",
       " ('в', 643),\n",
       " ('с', 546),\n",
       " ('разработка', 464),\n",
       " ('на', 351),\n",
       " ('для', 312),\n",
       " ('-', 187),\n",
       " ('по', 186),\n",
       " ('участие', 156),\n",
       " ('поддержка', 147)]"
      ]
     },
     "execution_count": 15,
     "metadata": {},
     "output_type": "execute_result"
    }
   ],
   "source": [
    "#Посмотрим самые популярные токены\n",
    "\n",
    "from collections import Counter\n",
    "counts = Counter(all_w)\n",
    "counts.most_common(10)"
   ]
  },
  {
   "cell_type": "markdown",
   "id": "bd355bc4-6d53-4428-be8c-276e1416fe13",
   "metadata": {},
   "source": [
    "Заметим, что по большей части это стоп-слова"
   ]
  },
  {
   "cell_type": "code",
   "execution_count": 16,
   "id": "0f2f4e3c-64ab-4b5e-b4cf-0d5dd9277e61",
   "metadata": {},
   "outputs": [
    {
     "name": "stdout",
     "output_type": "stream",
     "text": [
      "6141\n",
      "18142\n"
     ]
    }
   ],
   "source": [
    "# Удалим их\n",
    "\n",
    "from nltk.corpus import stopwords\n",
    "from string import punctuation\n",
    "\n",
    "stop_words = stopwords.words(\"russian\")\n",
    "noise = stop_words + list(punctuation) #создадим список со стоп-словами и пунктуацией\n",
    "\n",
    "all_w_n = np.array(all_w) #сделаем нампи эррей из листа со всеми токенами\n",
    "\n",
    "mask = np.in1d(all_w_n, noise) #создаем маску, которая ищет стоп-слова и пунктуацию\n",
    "\n",
    "all_w_new = list(all_w_n[~mask]) #оставляем только не стоп-слова \n",
    "\n",
    "print(len(set(all_w_new))) # заметим, что удалось удалить часть токенов\n",
    "print(len(all_w_new))"
   ]
  },
  {
   "cell_type": "code",
   "execution_count": 17,
   "id": "ab106ae3-3152-4921-ba47-3a85c382e743",
   "metadata": {},
   "outputs": [
    {
     "name": "stdout",
     "output_type": "stream",
     "text": [
      "Токен: разработка, частота: 464\n",
      "Токен: участие, частота: 156\n",
      "Токен: поддержка, частота: 147\n",
      "Токен: работа, частота: 119\n",
      "Токен: разрабатывать, частота: 112\n",
      "Токен: новых, частота: 109\n",
      "Токен: данных, частота: 98\n",
      "Токен: разработке, частота: 73\n",
      "Токен: данных., частота: 72\n",
      "Токен: участвовать, частота: 72\n"
     ]
    }
   ],
   "source": [
    "# Снова найдем топ-10 слов\n",
    "\n",
    "unique, counts = np.unique(all_w_new, return_counts=True)\n",
    "\n",
    "sorted_ind_asc = np.argsort(counts)\n",
    "sorted_ind_desc = np.argsort(counts)[::-1]\n",
    "\n",
    "for i, j in zip(unique[sorted_ind_desc][:10], counts[sorted_ind_desc][:10]):\n",
    "    print(f'Токен: {i}, частота: {j}')"
   ]
  },
  {
   "cell_type": "code",
   "execution_count": 18,
   "id": "01480ee4-5207-4e2b-bfb5-6bdff4933bed",
   "metadata": {},
   "outputs": [
    {
     "name": "stdout",
     "output_type": "stream",
     "text": [
      "Токен: \"буржуй\", частота: 1\n",
      "Токен: направления,, частота: 1\n",
      "Токен: направлениям, частота: 1\n",
      "Токен: направленных, частота: 1\n",
      "Токен: наращивать, частота: 1\n",
      "Токен: нарушения, частота: 1\n",
      "Токен: настоящим, частота: 1\n",
      "Токен: настраивает, частота: 1\n",
      "Токен: настроек, частота: 1\n",
      "Токен: настроения, частота: 1\n"
     ]
    }
   ],
   "source": [
    "# Теперь посмотрим на самые непопулярные токены\n",
    "\n",
    "for i, j in zip(unique[sorted_ind_asc][:10], counts[sorted_ind_asc][:10]):\n",
    "    print(f'Токен: {i}, частота: {j}')"
   ]
  },
  {
   "cell_type": "markdown",
   "id": "13455c5d-bebc-40c7-83ce-3cc59e38834f",
   "metadata": {},
   "source": [
    "~\"буржуй\" и все слова на букву Н~"
   ]
  },
  {
   "cell_type": "code",
   "execution_count": 19,
   "id": "85b3525b-8827-45f0-8a77-297d690f31df",
   "metadata": {},
   "outputs": [
    {
     "name": "stdout",
     "output_type": "stream",
     "text": [
      "31467\n",
      "['Разработка', 'простых', 'интеграций', 'для', 'программы', 'лояльности', 'в', 'приложениях', 'на', 'React']\n"
     ]
    }
   ],
   "source": [
    "# Теперь используем токенезатор\n",
    "\n",
    "new_d = []\n",
    "for line in df['Обязанности']:\n",
    "    words = word_tokenize(line)\n",
    "    new_d.extend(words)\n",
    "\n",
    "print(len(new_d)) #чекним сколько у нас токенов (в том числе повторяющихся), вышло чуть больше, чем до этого\n",
    "print(new_d[:10]) #ну и пару слов выведем "
   ]
  },
  {
   "cell_type": "code",
   "execution_count": 20,
   "id": "a66b9853-0eda-4a4b-bd1c-dcdab81340db",
   "metadata": {},
   "outputs": [
    {
     "data": {
      "text/plain": [
       "5445"
      ]
     },
     "execution_count": 20,
     "metadata": {},
     "output_type": "execute_result"
    }
   ],
   "source": [
    "len(set(new_d))  # уникальных токены, и заметим, что тут результаты улушились и слов стало немного меньше"
   ]
  },
  {
   "cell_type": "code",
   "execution_count": 21,
   "id": "e46fb2f5-0354-4aea-8fe5-d3082cc503bb",
   "metadata": {},
   "outputs": [
    {
     "data": {
      "text/plain": [
       "20153"
      ]
     },
     "execution_count": 21,
     "metadata": {},
     "output_type": "execute_result"
    }
   ],
   "source": [
    "# Удалим шум\n",
    "\n",
    "new_d_np = np.array(new_d)\n",
    "\n",
    "mask = np.in1d(new_d_np, noise) #создаем маску, которая ищет шум\n",
    "\n",
    "new_d_np_cleaned = new_d_np[~mask]\n",
    "\n",
    "len(new_d_np_cleaned) #Ура! Токенов стало еще меньше"
   ]
  },
  {
   "cell_type": "code",
   "execution_count": 22,
   "id": "43e9ebb0-0ad7-4177-b50d-94dfa84f15c9",
   "metadata": {},
   "outputs": [
    {
     "name": "stdout",
     "output_type": "stream",
     "text": [
      "Токен: ..., частота: 673\n",
      "Токен: highlighttext, частота: 528\n",
      "Токен: /highlighttext, частота: 528\n",
      "Токен: Разработка, частота: 393\n",
      "Токен: данных, частота: 205\n",
      "Токен: Участие, частота: 122\n",
      "Токен: новых, частота: 114\n",
      "Токен: API, частота: 109\n",
      "Токен: приложений, частота: 98\n",
      "Токен: проектов, частота: 96\n"
     ]
    }
   ],
   "source": [
    "#снова проверим топ-10 популярных токенов\n",
    "\n",
    "unique, counts = np.unique(new_d_np_cleaned, return_counts=True)\n",
    "\n",
    "sorted_ind_asc = np.argsort(counts)\n",
    "sorted_ind_desc = np.argsort(counts)[::-1]\n",
    "\n",
    "for i, j in zip(unique[sorted_ind_desc][:10], counts[sorted_ind_desc][:10]):\n",
    "    print(f'Токен: {i}, частота: {j}')"
   ]
  },
  {
   "cell_type": "code",
   "execution_count": 23,
   "id": "e21bf45a-f15d-4c88-b22b-26fe95080137",
   "metadata": {},
   "outputs": [],
   "source": [
    "#Заметим, что в токенах остаются лишние символы, давайте напишем собственный tokenizer с учетом особенностей нашего текса\n",
    "\n",
    "def custom_tokenizer(text):\n",
    "    words = word_tokenize(text)\n",
    "    all_w = []\n",
    "    for word in words:\n",
    "        word = word.replace('...', '')\n",
    "        word = word.replace('highlighttext', '')\n",
    "        word = word.replace('/highlighttext', '')\n",
    "        word = word.replace('-', '')\n",
    "        all_w.append(word.lower())\n",
    "    dict_cleaned = []\n",
    "    for token in all_w:\n",
    "        if token not in noise and token != '' and token != ',':\n",
    "            dict_cleaned.append(token)\n",
    "    return dict_cleaned"
   ]
  },
  {
   "cell_type": "code",
   "execution_count": 24,
   "id": "f5273740-e16a-4da4-8cc8-eba4f3e8d0d9",
   "metadata": {},
   "outputs": [
    {
     "name": "stdout",
     "output_type": "stream",
     "text": [
      "18303\n",
      "['разработка', 'простых', 'интеграций', 'программы', 'лояльности', 'приложениях', 'react', 'native', 'создание', 'базовых']\n"
     ]
    }
   ],
   "source": [
    "# И попробуем использовать уже его \n",
    "\n",
    "\n",
    "new_d = []\n",
    "for line in df['Обязанности']:\n",
    "    words = custom_tokenizer(line)\n",
    "    new_d.extend(words)\n",
    "\n",
    "print(len(new_d)) #всего токенов\n",
    "print(new_d[:10])"
   ]
  },
  {
   "cell_type": "code",
   "execution_count": 25,
   "id": "cea8a53b-e9cb-4b4f-b6c3-cfee34dd569b",
   "metadata": {},
   "outputs": [
    {
     "data": {
      "text/plain": [
       "[('разработка', 485),\n",
       " ('данных', 205),\n",
       " ('участие', 158),\n",
       " ('поддержка', 156),\n",
       " ('backend', 130),\n",
       " ('работа', 122),\n",
       " ('новых', 114),\n",
       " ('разрабатывать', 113),\n",
       " ('api', 111),\n",
       " ('приложений', 99),\n",
       " ('решений', 98),\n",
       " ('проектов', 96),\n",
       " ('frontend', 86),\n",
       " ('кода', 85),\n",
       " ('архитектуры', 81),\n",
       " ('функционала', 80),\n",
       " ('разработки', 79),\n",
       " ('системы', 79),\n",
       " ('тестирование', 78),\n",
       " ('проектирование', 78)]"
      ]
     },
     "execution_count": 25,
     "metadata": {},
     "output_type": "execute_result"
    }
   ],
   "source": [
    "#Посмотрим самые популярные. Как будто неплохо\n",
    "\n",
    "from collections import Counter\n",
    "counts = Counter(new_d)\n",
    "counts.most_common(20)"
   ]
  },
  {
   "cell_type": "code",
   "execution_count": 26,
   "id": "b21d57c7-3837-4087-be88-0024cd15af85",
   "metadata": {},
   "outputs": [
    {
     "name": "stdout",
     "output_type": "stream",
     "text": [
      "Токен: ️, частота: 1\n",
      "Токен: инсайты, частота: 1\n",
      "Токен: инстансов, частота: 1\n",
      "Токен: инструкции, частота: 1\n",
      "Токен: разработчикам, частота: 1\n",
      "Токен: инструмент, частота: 1\n",
      "Токен: разработок, частота: 1\n",
      "Токен: разработки/сборки/тестирования/инсталляции, частота: 1\n",
      "Токен: разработках, частота: 1\n",
      "Токен: инсайтов, частота: 1\n"
     ]
    }
   ],
   "source": [
    "# Проверим самые непопулярные токены. Обычно, если в тексте остались какие-то странные строки, мы можем заметить это по непопулярным токенам\n",
    "\n",
    "unique, counts = np.unique(new_d, return_counts=True)\n",
    "\n",
    "sorted_ind_asc = np.argsort(counts)\n",
    "sorted_ind_desc = np.argsort(counts)[::-1]\n",
    "\n",
    "for i, j in zip(unique[sorted_ind_asc][:10], counts[sorted_ind_asc][:10]):\n",
    "    print(f'Токен: {i}, частота: {j}')"
   ]
  },
  {
   "cell_type": "markdown",
   "id": "e973ff92-7a55-4720-8c9b-ccd2ca213e9a",
   "metadata": {},
   "source": [
    "Заметим, что в нашем тексте много слов имеющих один и тот же корень, просто записанные в разной форме. Попробуем уменьшить словарь с помощью стемминга"
   ]
  },
  {
   "cell_type": "markdown",
   "id": "760b2a98-9841-4511-ae32-920cf1776e38",
   "metadata": {},
   "source": [
    "## Стемминг"
   ]
  },
  {
   "cell_type": "code",
   "execution_count": 27,
   "id": "34ac566c-ced9-488b-b35b-785a50e2ac86",
   "metadata": {},
   "outputs": [],
   "source": [
    "# Давайте поправим наш tokenizer добавив в него стемминг\n",
    "\n",
    "from nltk import SnowballStemmer\n",
    "\n",
    "def custom_stem_tokenizer(text):\n",
    "    stemmer = SnowballStemmer(\"russian\")\n",
    "    dictionary_cleaned = custom_tokenizer(text)\n",
    "    stemmed = [stemmer.stem(w) for w in dictionary_cleaned]\n",
    "    return stemmed"
   ]
  },
  {
   "cell_type": "code",
   "execution_count": 28,
   "id": "cde683ad-f567-4616-b2ae-4c3759725de5",
   "metadata": {},
   "outputs": [
    {
     "name": "stdout",
     "output_type": "stream",
     "text": [
      "18303\n",
      "['разработк', 'прост', 'интеграц', 'программ', 'лояльност', 'приложен', 'react', 'native', 'создан', 'базов']\n"
     ]
    }
   ],
   "source": [
    "# Используем теперь его\n",
    "\n",
    "new_d = []\n",
    "for line in df['Обязанности']:\n",
    "    words = custom_stem_tokenizer(line)\n",
    "    new_d.extend(words)\n",
    "\n",
    "print(len(new_d)) #всего токенов\n",
    "print(new_d[:10])"
   ]
  },
  {
   "cell_type": "code",
   "execution_count": 29,
   "id": "b78c3017-f08e-4942-95c8-98ce91fd069f",
   "metadata": {},
   "outputs": [
    {
     "data": {
      "text/plain": [
       "3015"
      ]
     },
     "execution_count": 29,
     "metadata": {},
     "output_type": "execute_result"
    }
   ],
   "source": [
    "# теперь снова проверим уникальные токены\n",
    "\n",
    "len(set(new_d)) #Ура! Их осталось совсем немного по сравнению с тем, что было"
   ]
  },
  {
   "cell_type": "markdown",
   "id": "5ad7b06c-7914-4eb3-a883-d5a69ca5513e",
   "metadata": {},
   "source": [
    "## Векторизация"
   ]
  },
  {
   "cell_type": "code",
   "execution_count": 30,
   "id": "682c2075-22c6-48a4-ba7f-60fa581c54e6",
   "metadata": {},
   "outputs": [
    {
     "name": "stdout",
     "output_type": "stream",
     "text": [
      "3020\n"
     ]
    }
   ],
   "source": [
    "from sklearn.feature_extraction.text import CountVectorizer\n",
    "\n",
    "cv = CountVectorizer(tokenizer=custom_stem_tokenizer)\n",
    "X = cv.fit_transform(df['Обязанности'])\n",
    "print(len(cv.vocabulary_))"
   ]
  },
  {
   "cell_type": "code",
   "execution_count": 31,
   "id": "0c44242b-3cf9-423c-b352-6c7f4f3d3b66",
   "metadata": {},
   "outputs": [
    {
     "data": {
      "text/plain": [
       "['разработк',\n",
       " 'прост',\n",
       " 'интеграц',\n",
       " 'программ',\n",
       " 'лояльност',\n",
       " 'приложен',\n",
       " 'react',\n",
       " 'native',\n",
       " 'создан',\n",
       " 'базов',\n",
       " 'компонент',\n",
       " 'пользовательск',\n",
       " 'интерфейс',\n",
       " 'готов',\n",
       " 'дизайнмакет',\n",
       " 'участ',\n",
       " 'проектирован',\n",
       " 'реализац',\n",
       " 'решен',\n",
       " 'област',\n",
       " 'ai/ml',\n",
       " 'ключев',\n",
       " 'проект',\n",
       " 'университет',\n",
       " 'формирован']"
      ]
     },
     "execution_count": 31,
     "metadata": {},
     "output_type": "execute_result"
    }
   ],
   "source": [
    "list(cv.vocabulary_.keys())[:25] # посмотрим токены"
   ]
  },
  {
   "cell_type": "code",
   "execution_count": 32,
   "id": "5fa48e21-e79b-42da-a47e-8db5bde8966f",
   "metadata": {},
   "outputs": [
    {
     "data": {
      "text/plain": [
       "Index(['Организация', 'Описание', 'Тип_занятости', 'Локация',\n",
       "       'Ключевые навыки', 'Вакансия', 'ЗП_от', 'ЗП_до', 'Валюта',\n",
       "       'Профессия_id', 'Требования', 'Обязанности', 'Расписание', 'Опыт',\n",
       "       'Профессия', 'ЗП_сред', 'ЗП_сред_RUB', 'Локация_2', 'Сфера'],\n",
       "      dtype='object')"
      ]
     },
     "execution_count": 32,
     "metadata": {},
     "output_type": "execute_result"
    }
   ],
   "source": [
    "df.columns"
   ]
  },
  {
   "cell_type": "code",
   "execution_count": 33,
   "id": "a9ed759d-1174-49b4-ac5d-1ae8f29d8e34",
   "metadata": {},
   "outputs": [
    {
     "data": {
      "text/plain": [
       "('Поддержкой, развитием и оптимизацией существующих проектов. Разработкой новой функциональности и улучшением имеющейся. Работать в тесной связке с <highlighttext>frontend</highlighttext>-разработчиком (фронт...',\n",
       " 'Прога')"
      ]
     },
     "execution_count": 33,
     "metadata": {},
     "output_type": "execute_result"
    }
   ],
   "source": [
    "# Посмотрим конкретную вакансию\n",
    "\n",
    "ind = 555\n",
    "df.iloc[ind]['Обязанности'], df.iloc[ind]['Сфера']"
   ]
  },
  {
   "cell_type": "markdown",
   "id": "c95d90ea-c4d6-49fd-86cf-58bc0e42b223",
   "metadata": {},
   "source": [
    "Применим обученный CountVectorizer для векторизации данного текста"
   ]
  },
  {
   "cell_type": "code",
   "execution_count": 34,
   "id": "bb375775-d859-4bdc-837e-ca09a3c4c165",
   "metadata": {},
   "outputs": [
    {
     "data": {
      "text/plain": [
       "array([[1, 1, 1, 1, 1, 1, 1, 1, 1, 1, 1, 1, 1, 1, 1, 1]], dtype=int64)"
      ]
     },
     "execution_count": 34,
     "metadata": {},
     "output_type": "execute_result"
    }
   ],
   "source": [
    "a = [df.iloc[ind]['Обязанности']]\n",
    "\n",
    "X = cv.fit_transform(a)\n",
    "cv.vocabulary_.keys()\n",
    "\n",
    "X.toarray() #Все токены уникальны и встречаются один раз, поэтому нельзя точно сказать, какой важнее"
   ]
  },
  {
   "cell_type": "markdown",
   "id": "1670b613-8df7-4779-8a1f-486198fbc4c2",
   "metadata": {},
   "source": [
    "Теперь попробуем найти TF-IDF"
   ]
  },
  {
   "cell_type": "code",
   "execution_count": 35,
   "id": "b7cafbf7-2dfe-43b2-a3d5-f23b316cf06f",
   "metadata": {},
   "outputs": [
    {
     "data": {
      "text/plain": [
       "array([[0., 0., 0., ..., 0., 0., 0.]])"
      ]
     },
     "execution_count": 35,
     "metadata": {},
     "output_type": "execute_result"
    }
   ],
   "source": [
    "from sklearn.feature_extraction.text import TfidfVectorizer\n",
    "\n",
    "tfidf_vec = TfidfVectorizer(tokenizer=custom_tokenizer)\n",
    "X = tfidf_vec.fit_transform(df['Обязанности'])\n",
    "importance = X[555].toarray()         #выгрузим \"веса\" каждого слово для интересующей нас вакансии\n",
    "importance"
   ]
  },
  {
   "cell_type": "code",
   "execution_count": 36,
   "id": "2631b127-97da-4283-a78e-05745b22dda1",
   "metadata": {},
   "outputs": [
    {
     "data": {
      "text/plain": [
       "array([ 391, 1933, 2707, 2862, 3125, 3489, 3572, 3603, 3651, 3660, 3895,\n",
       "       4241, 4313, 4445, 4587, 4613], dtype=int64)"
      ]
     },
     "execution_count": 36,
     "metadata": {},
     "output_type": "execute_result"
    }
   ],
   "source": [
    "ind = np.where(importance != 0)[1] #найдем индексы слов с ненулевым весом для выбранной вакансии\n",
    "ind"
   ]
  },
  {
   "cell_type": "code",
   "execution_count": 37,
   "id": "e803ce26-b1f0-40ab-8565-ec9cc2ac7dd1",
   "metadata": {},
   "outputs": [
    {
     "name": "stdout",
     "output_type": "stream",
     "text": [
      "4779\n"
     ]
    }
   ],
   "source": [
    "cv = CountVectorizer(tokenizer=custom_tokenizer)\n",
    "X = cv.fit_transform(df['Обязанности'])\n",
    "print(len(cv.vocabulary_))"
   ]
  },
  {
   "cell_type": "code",
   "execution_count": 38,
   "id": "5e8a6979-b8a7-4e83-a868-77d24217744e",
   "metadata": {},
   "outputs": [
    {
     "data": {
      "text/plain": [
       "array(['frontend', 'имеющейся', 'новой', 'оптимизацией', 'поддержкой',\n",
       "       'проектов', 'работать', 'развитием', 'разработкой',\n",
       "       'разработчиком', 'связке', 'существующих', 'тесной', 'улучшением',\n",
       "       'фронт', 'функциональности'], dtype=object)"
      ]
     },
     "execution_count": 38,
     "metadata": {},
     "output_type": "execute_result"
    }
   ],
   "source": [
    "cv.get_feature_names_out()[ind] #достанем эти слова"
   ]
  },
  {
   "cell_type": "code",
   "execution_count": 39,
   "id": "3005a351-57e1-4bf9-b636-5825a5b93d46",
   "metadata": {},
   "outputs": [
    {
     "data": {
      "text/html": [
       "<div>\n",
       "<style scoped>\n",
       "    .dataframe tbody tr th:only-of-type {\n",
       "        vertical-align: middle;\n",
       "    }\n",
       "\n",
       "    .dataframe tbody tr th {\n",
       "        vertical-align: top;\n",
       "    }\n",
       "\n",
       "    .dataframe thead th {\n",
       "        text-align: right;\n",
       "    }\n",
       "</style>\n",
       "<table border=\"1\" class=\"dataframe\">\n",
       "  <thead>\n",
       "    <tr style=\"text-align: right;\">\n",
       "      <th></th>\n",
       "      <th>frontend</th>\n",
       "      <th>имеющейся</th>\n",
       "      <th>новой</th>\n",
       "      <th>оптимизацией</th>\n",
       "      <th>поддержкой</th>\n",
       "      <th>проектов</th>\n",
       "      <th>работать</th>\n",
       "      <th>развитием</th>\n",
       "      <th>разработкой</th>\n",
       "      <th>разработчиком</th>\n",
       "      <th>связке</th>\n",
       "      <th>существующих</th>\n",
       "      <th>тесной</th>\n",
       "      <th>улучшением</th>\n",
       "      <th>фронт</th>\n",
       "      <th>функциональности</th>\n",
       "    </tr>\n",
       "  </thead>\n",
       "  <tbody>\n",
       "    <tr>\n",
       "      <th>0</th>\n",
       "      <td>0.160564</td>\n",
       "      <td>0.322237</td>\n",
       "      <td>0.252621</td>\n",
       "      <td>0.292255</td>\n",
       "      <td>0.218516</td>\n",
       "      <td>0.160052</td>\n",
       "      <td>0.197214</td>\n",
       "      <td>0.274716</td>\n",
       "      <td>0.198432</td>\n",
       "      <td>0.262273</td>\n",
       "      <td>0.304699</td>\n",
       "      <td>0.166046</td>\n",
       "      <td>0.304699</td>\n",
       "      <td>0.282603</td>\n",
       "      <td>0.274716</td>\n",
       "      <td>0.238066</td>\n",
       "    </tr>\n",
       "  </tbody>\n",
       "</table>\n",
       "</div>"
      ],
      "text/plain": [
       "   frontend  имеющейся     новой  оптимизацией  поддержкой  проектов  \\\n",
       "0  0.160564   0.322237  0.252621      0.292255    0.218516  0.160052   \n",
       "\n",
       "   работать  развитием  разработкой  разработчиком    связке  существующих  \\\n",
       "0  0.197214   0.274716     0.198432       0.262273  0.304699      0.166046   \n",
       "\n",
       "     тесной  улучшением     фронт  функциональности  \n",
       "0  0.304699    0.282603  0.274716          0.238066  "
      ]
     },
     "execution_count": 39,
     "metadata": {},
     "output_type": "execute_result"
    }
   ],
   "source": [
    "pd.DataFrame(importance[:, ind], columns=cv.get_feature_names_out()[ind]) #а теперь сделаем красивый датафреймик"
   ]
  },
  {
   "cell_type": "markdown",
   "id": "f53dc1d6-36eb-438d-bfe9-b699d2f1e4ee",
   "metadata": {},
   "source": [
    "## Обучение моделей"
   ]
  },
  {
   "cell_type": "code",
   "execution_count": 40,
   "id": "ba44eef1-419e-43de-a47a-11bb4c65984b",
   "metadata": {},
   "outputs": [],
   "source": [
    "def change(raw):\n",
    "    if raw['Сфера'] == 'Прога':\n",
    "        return 1\n",
    "    else:\n",
    "        return 0\n",
    "df['Сфера_id'] = df.apply(change, axis=1)"
   ]
  },
  {
   "cell_type": "code",
   "execution_count": 41,
   "id": "3b737d93-98d6-46ac-9191-1e008890cd00",
   "metadata": {},
   "outputs": [],
   "source": [
    "from sklearn.linear_model import LogisticRegression\n",
    "from sklearn.metrics import classification_report, roc_auc_score\n",
    "from sklearn.preprocessing import MaxAbsScaler\n",
    "from sklearn.metrics import accuracy_score\n",
    "from sklearn.preprocessing import MaxAbsScaler\n",
    "from sklearn.model_selection import train_test_split"
   ]
  },
  {
   "cell_type": "code",
   "execution_count": 42,
   "id": "6bfec257-fa5b-4ffe-bfad-c122472e351b",
   "metadata": {},
   "outputs": [],
   "source": [
    "X = df['Обязанности']\n",
    "y = df['Сфера_id']\n",
    "\n",
    "\n",
    "X_train, X_test, y_train, y_test = train_test_split(X, y, train_size=0.7, random_state=0)"
   ]
  },
  {
   "cell_type": "code",
   "execution_count": 43,
   "id": "013029d9-c506-470c-9569-5b3870d813f3",
   "metadata": {},
   "outputs": [
    {
     "data": {
      "text/plain": [
       "641     Построение / Управление / Обучение команды <hi...\n",
       "1181    Система слежения за автопарком компании с помо...\n",
       "830     Мы используем и разрабатываем сложную архитект...\n",
       "1247    Мы в поиске грамотного python-разработчика, в ...\n",
       "693                 Разработка DMA инфраструктуры с нуля.\n",
       "Name: Обязанности, dtype: object"
      ]
     },
     "execution_count": 43,
     "metadata": {},
     "output_type": "execute_result"
    }
   ],
   "source": [
    "X_train.head()"
   ]
  },
  {
   "cell_type": "code",
   "execution_count": 44,
   "id": "686baf22-81b2-49df-9ea2-10b5d2cedc08",
   "metadata": {},
   "outputs": [
    {
     "name": "stdout",
     "output_type": "stream",
     "text": [
      "0.997737556561086\n",
      "0.8842105263157894\n"
     ]
    }
   ],
   "source": [
    "vec = CountVectorizer(ngram_range=(1, 1))\n",
    "bow = vec.fit_transform(X_train)  # bow — bag of words (мешок слов)\n",
    "bow_test = vec.transform(X_test)\n",
    "\n",
    "clf = LogisticRegression(max_iter=200, random_state=42)\n",
    "clf.fit(bow, y_train)\n",
    "pred = clf.predict(bow)\n",
    "pred_test = clf.predict(bow_test) \n",
    "\n",
    "print(accuracy_score(y_train, pred)) #вышел довольно неплохо скор\n",
    "print(accuracy_score(y_test, pred_test))"
   ]
  },
  {
   "cell_type": "code",
   "execution_count": 45,
   "id": "b5c38361-d095-4e1e-ae37-ba699c6e76d8",
   "metadata": {},
   "outputs": [
    {
     "data": {
      "text/plain": [
       "Сфера_id\n",
       "1    1001\n",
       "0     263\n",
       "Name: count, dtype: int64"
      ]
     },
     "execution_count": 45,
     "metadata": {},
     "output_type": "execute_result"
    }
   ],
   "source": [
    "df['Сфера_id'].value_counts()"
   ]
  },
  {
   "cell_type": "code",
   "execution_count": 46,
   "id": "64de95e3-2139-4946-9859-f43f76e7f564",
   "metadata": {},
   "outputs": [],
   "source": [
    "y = df['Сфера_id']"
   ]
  },
  {
   "cell_type": "code",
   "execution_count": 47,
   "id": "a9e46aab-6084-42f0-9ea2-a74fb54503e4",
   "metadata": {},
   "outputs": [
    {
     "name": "stdout",
     "output_type": "stream",
     "text": [
      "0.9920814479638009\n",
      "0.881578947368421\n"
     ]
    }
   ],
   "source": [
    "# Теперь давайте попробуем взвесить классы, поскольку у нас явный дисбаланс классов\n",
    "\n",
    "from sklearn.utils.class_weight import compute_class_weight\n",
    "\n",
    "class_weights = compute_class_weight('balanced', classes=np.unique(y), y=y)\n",
    "class_weights = {0: class_weights[0], 1: class_weights[1]}\n",
    "\n",
    "vec = CountVectorizer(ngram_range=(1, 1), tokenizer=custom_stem_tokenizer)\n",
    "bow = vec.fit_transform(X_train)  # bow — bag of words (мешок слов)\n",
    "bow_test = vec.transform(X_test)\n",
    "\n",
    "clf = LogisticRegression(max_iter=200, random_state=55, class_weight=class_weights)\n",
    "clf.fit(bow, y_train)\n",
    "pred = clf.predict(bow)\n",
    "pred_test = clf.predict(bow_test) \n",
    "\n",
    "print(accuracy_score(y_train, pred)) # скор даже вырос\n",
    "print(accuracy_score(y_test, pred_test))"
   ]
  },
  {
   "cell_type": "code",
   "execution_count": 48,
   "id": "3cfb0554-68ab-4828-83ae-13c2bde01a97",
   "metadata": {},
   "outputs": [
    {
     "name": "stdout",
     "output_type": "stream",
     "text": [
      "0.9626696832579186\n",
      "0.881578947368421\n"
     ]
    }
   ],
   "source": [
    "# возьмем теперь другой векторайзер\n",
    "\n",
    "vec = TfidfVectorizer(ngram_range=(1, 1), tokenizer=custom_stem_tokenizer)\n",
    "vec_train = vec.fit_transform(X_train)\n",
    "vec_test = vec.transform(X_test)\n",
    "\n",
    "clf = LogisticRegression(max_iter=300, random_state=55, class_weight=class_weights)\n",
    "clf.fit(vec_train, y_train)\n",
    "pred_tfidf_test = clf.predict(vec_test)\n",
    "pred_tfidf = clf.predict(vec_train)\n",
    "\n",
    "print(accuracy_score(y_train, pred_tfidf))\n",
    "print(accuracy_score(y_test, pred_tfidf_test)) # тут на скор ниже"
   ]
  },
  {
   "cell_type": "code",
   "execution_count": 49,
   "id": "e25f5da6-65bb-4718-ad83-3df12f71caec",
   "metadata": {},
   "outputs": [],
   "source": [
    "# А теперь попробуем рандомно удалить часть вакансий по направлению программирование для достижения баланса классов\n",
    "# и снова обучить модели\n",
    "ana_indices = np.where(y == 0)[0] \n",
    "proga_indices = np.random.choice(np.where(y != 0)[0], size=len(ana_indices))\n",
    "indices = np.concatenate((ana_indices, proga_indices))\n",
    "X = X[indices]\n",
    "y = y[indices]"
   ]
  },
  {
   "cell_type": "code",
   "execution_count": 50,
   "id": "c83f0611-03a7-4123-9678-1a1deeb66d7d",
   "metadata": {},
   "outputs": [
    {
     "data": {
      "text/plain": [
       "Сфера_id\n",
       "0    263\n",
       "1    263\n",
       "Name: count, dtype: int64"
      ]
     },
     "execution_count": 50,
     "metadata": {},
     "output_type": "execute_result"
    }
   ],
   "source": [
    "y.value_counts()"
   ]
  },
  {
   "cell_type": "code",
   "execution_count": 51,
   "id": "8fd315cf-b3f8-4d94-8ad0-77065bcae487",
   "metadata": {},
   "outputs": [],
   "source": [
    "X_train, X_test, y_train, y_test = train_test_split(X, y, train_size=0.7, random_state=0)"
   ]
  },
  {
   "cell_type": "code",
   "execution_count": 52,
   "id": "dd007634-6c2c-40ec-a558-19cd4ee691a5",
   "metadata": {},
   "outputs": [
    {
     "name": "stdout",
     "output_type": "stream",
     "text": [
      "0.970108695652174\n",
      "0.8481012658227848\n"
     ]
    }
   ],
   "source": [
    "# возьмем теперь другой векторайзер\n",
    "\n",
    "vec = TfidfVectorizer(ngram_range=(1, 1), tokenizer=custom_stem_tokenizer)\n",
    "vec_train = vec.fit_transform(X_train)\n",
    "vec_test = vec.transform(X_test)\n",
    "\n",
    "clf = LogisticRegression(max_iter=300, random_state=55)\n",
    "clf.fit(vec_train, y_train)\n",
    "pred_tfidf_test = clf.predict(vec_test)\n",
    "pred_tfidf = clf.predict(vec_train)\n",
    "\n",
    "print(accuracy_score(y_train, pred_tfidf))\n",
    "print(accuracy_score(y_test, pred_tfidf_test)) "
   ]
  },
  {
   "cell_type": "code",
   "execution_count": 55,
   "id": "86c08466-6b71-4334-8bcb-1add3fbfb826",
   "metadata": {},
   "outputs": [
    {
     "name": "stdout",
     "output_type": "stream",
     "text": [
      "Precision: 0.85\n",
      "Recall: 0.85\n",
      "F1: 0.85\n"
     ]
    }
   ],
   "source": [
    "# Давайте еще посчитаем метрики\n",
    "\n",
    "from sklearn.metrics import precision_score\n",
    "from sklearn.metrics import recall_score\n",
    "from sklearn.metrics import f1_score\n",
    "\n",
    "print(f\"Precision: {precision_score(y_test, pred_tfidf_test > 0.5):.2f}\")\n",
    "print(f\"Recall: {recall_score(y_test, pred_tfidf_test > 0.5):.2f}\")\n",
    "print(f\"F1: {f1_score(y_test, pred_tfidf_test > 0.5):.2f}\")"
   ]
  },
  {
   "cell_type": "code",
   "execution_count": 53,
   "id": "3fa15734-de8b-4fe7-8f76-64ea5fc17811",
   "metadata": {},
   "outputs": [
    {
     "data": {
      "image/png": "[encoded data removed]",
      "text/plain": [
       "<Figure size 1500x900 with 1 Axes>"
      ]
     },
     "metadata": {},
     "output_type": "display_data"
    }
   ],
   "source": [
    "#В целом все довольно неплохо, жаль только, что на тесте и трейне такая разница, ведь может быть вероятность переобучения\n",
    "#Поэтому предлагаю посмотреть на токены с наибольшим весом после обучения модели и оценить их веса\n",
    "\n",
    "# Получаем коэффициенты модели\n",
    "coefs = clf.coef_[0]\n",
    "\n",
    "# Сортируем токены по модулю коэффициентов\n",
    "sorted_tokens = sorted(vec.get_feature_names_out(), key=lambda x: abs(coefs[vec.vocabulary_[x]]), reverse=True)\n",
    "\n",
    "\n",
    "co = []\n",
    "for i in sorted_tokens[0:10]:\n",
    "    co.append(abs(coefs[vec.vocabulary_[i]])) \n",
    "\n",
    "# Выводим berplot с 10 токенами с наибольшими по модулю положительными/отрицательными весами\n",
    "plt.figure(figsize=(15, 9))\n",
    "sns.barplot(x=sorted_tokens[0:10], y=co, palette='PiYG_r')\n",
    "plt.show()"
   ]
  },
  {
   "cell_type": "markdown",
   "id": "ee43418b-8533-418a-9194-bc0dea9aafd9",
   "metadata": {},
   "source": [
    "**Вывод:** модель справилась хорошо, токены адекватные и веса тоже. Признак \"Обязанность\" позволяет хорошо разделить вакансии программистов и вакансии аналитиков"
   ]
  }
 ],
 "metadata": {
  "kernelspec": {
   "display_name": "Python 3 (ipykernel)",
   "language": "python",
   "name": "python3"
  },
  "language_info": {
   "codemirror_mode": {
    "name": "ipython",
    "version": 3
   },
   "file_extension": ".py",
   "mimetype": "text/x-python",
   "name": "python",
   "nbconvert_exporter": "python",
   "pygments_lexer": "ipython3",
   "version": "3.11.7"
  }
 },
 "nbformat": 4,
 "nbformat_minor": 5
}
