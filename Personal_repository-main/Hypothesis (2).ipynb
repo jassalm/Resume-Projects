{
 "cells": [
  {
   "cell_type": "code",
   "execution_count": 1,
   "id": "64d78784-30ce-4cb1-95b2-aec823ee043c",
   "metadata": {},
   "outputs": [],
   "source": [
    "import numpy as np\n",
    "import pandas as pd\n",
    "from scipy import stats\n",
    "import seaborn as sns\n",
    "import matplotlib.pyplot as plt"
   ]
  },
  {
   "cell_type": "code",
   "execution_count": 2,
   "id": "1acf7d80-9c5b-4bfe-977c-827ca517bf3d",
   "metadata": {},
   "outputs": [],
   "source": [
    "df = pd.read_csv('for_text.csv')\n",
    "df.drop('Unnamed: 0', axis=1, inplace=True)"
   ]
  },
  {
   "cell_type": "code",
   "execution_count": 3,
   "id": "110d63a7-b674-46d4-ad39-6501b4351e34",
   "metadata": {},
   "outputs": [
    {
     "data": {
      "text/html": [
       "<div>\n",
       "<style scoped>\n",
       "    .dataframe tbody tr th:only-of-type {\n",
       "        vertical-align: middle;\n",
       "    }\n",
       "\n",
       "    .dataframe tbody tr th {\n",
       "        vertical-align: top;\n",
       "    }\n",
       "\n",
       "    .dataframe thead th {\n",
       "        text-align: right;\n",
       "    }\n",
       "</style>\n",
       "<table border=\"1\" class=\"dataframe\">\n",
       "  <thead>\n",
       "    <tr style=\"text-align: right;\">\n",
       "      <th></th>\n",
       "      <th>Организация</th>\n",
       "      <th>Описание</th>\n",
       "      <th>Тип_занятости</th>\n",
       "      <th>Локация</th>\n",
       "      <th>Ключевые навыки</th>\n",
       "      <th>Вакансия</th>\n",
       "      <th>ЗП_от</th>\n",
       "      <th>ЗП_до</th>\n",
       "      <th>Валюта</th>\n",
       "      <th>Профессия_id</th>\n",
       "      <th>Требования</th>\n",
       "      <th>Обязанности</th>\n",
       "      <th>Расписание</th>\n",
       "      <th>Опыт</th>\n",
       "      <th>Профессия</th>\n",
       "      <th>ЗП_сред</th>\n",
       "      <th>ЗП_сред_RUB</th>\n",
       "      <th>Локация_2</th>\n",
       "      <th>Сфера</th>\n",
       "    </tr>\n",
       "  </thead>\n",
       "  <tbody>\n",
       "    <tr>\n",
       "      <th>0</th>\n",
       "      <td>Инновационная Экологическая Платформа</td>\n",
       "      <td>Ecoplatform - один из лидеров рынка фандоматов...</td>\n",
       "      <td>FULL_TIME</td>\n",
       "      <td>Москва</td>\n",
       "      <td>['React']</td>\n",
       "      <td>Frontend developer (React)</td>\n",
       "      <td>100000.0</td>\n",
       "      <td>150000.0</td>\n",
       "      <td>RUR</td>\n",
       "      <td>96</td>\n",
       "      <td>Опыт разработки мобильных приложений на React ...</td>\n",
       "      <td>Разработка простых интеграций для программы ло...</td>\n",
       "      <td>remote</td>\n",
       "      <td>between1And3</td>\n",
       "      <td>Программист, разработчик</td>\n",
       "      <td>125000.0</td>\n",
       "      <td>125000.0</td>\n",
       "      <td>Москва</td>\n",
       "      <td>Прога</td>\n",
       "    </tr>\n",
       "    <tr>\n",
       "      <th>1</th>\n",
       "      <td>НИТУ МИСИС</td>\n",
       "      <td>Университет науки и технологий МИСИС является ...</td>\n",
       "      <td>FULL_TIME</td>\n",
       "      <td>Москва</td>\n",
       "      <td>[]</td>\n",
       "      <td>Data Scientist</td>\n",
       "      <td>150000.0</td>\n",
       "      <td>NaN</td>\n",
       "      <td>RUR</td>\n",
       "      <td>96</td>\n",
       "      <td>Высшее образование. Качественный опыт работы в...</td>\n",
       "      <td>Участие в проектировании и реализации решений ...</td>\n",
       "      <td>fullDay</td>\n",
       "      <td>between1And3</td>\n",
       "      <td>Программист, разработчик</td>\n",
       "      <td>150000.0</td>\n",
       "      <td>150000.0</td>\n",
       "      <td>Москва</td>\n",
       "      <td>Прога</td>\n",
       "    </tr>\n",
       "    <tr>\n",
       "      <th>2</th>\n",
       "      <td>ООО «Вин-Маркет»</td>\n",
       "      <td>Кто мы: Aftermarket-DATA © — разработчик прогр...</td>\n",
       "      <td>FULL_TIME</td>\n",
       "      <td>Нижний Новгород</td>\n",
       "      <td>['PHP', 'Git', 'MySQL', 'Redis', 'REST', 'SOAP...</td>\n",
       "      <td>Python-программист (Backend)</td>\n",
       "      <td>90000.0</td>\n",
       "      <td>120000.0</td>\n",
       "      <td>RUR</td>\n",
       "      <td>96</td>\n",
       "      <td>Python. PHP. HTML, CSS. JavaScript, jQuery. GI...</td>\n",
       "      <td>Участвовать во всех этапах проекта: от проекти...</td>\n",
       "      <td>fullDay</td>\n",
       "      <td>between1And3</td>\n",
       "      <td>Программист, разработчик</td>\n",
       "      <td>105000.0</td>\n",
       "      <td>105000.0</td>\n",
       "      <td>Другое</td>\n",
       "      <td>Прога</td>\n",
       "    </tr>\n",
       "    <tr>\n",
       "      <th>3</th>\n",
       "      <td>Data-Power</td>\n",
       "      <td>Требуемый опыт работы: 3–6 лет Полная занятост...</td>\n",
       "      <td>FULL_TIME</td>\n",
       "      <td>Санкт-Петербург</td>\n",
       "      <td>['DAX', 'PostgreSQL', 'SQL', 'Power BI', 'Powe...</td>\n",
       "      <td>Разработчик Power BI</td>\n",
       "      <td>100000.0</td>\n",
       "      <td>160000.0</td>\n",
       "      <td>RUR</td>\n",
       "      <td>96</td>\n",
       "      <td>...в &lt;highlighttext&gt;аналитике&lt;/highlighttext&gt;:...</td>\n",
       "      <td>Разработка и внедрение &lt;highlighttext&gt;аналитик...</td>\n",
       "      <td>fullDay</td>\n",
       "      <td>between1And3</td>\n",
       "      <td>Программист, разработчик</td>\n",
       "      <td>130000.0</td>\n",
       "      <td>130000.0</td>\n",
       "      <td>Санкт-Петербург</td>\n",
       "      <td>Прога</td>\n",
       "    </tr>\n",
       "    <tr>\n",
       "      <th>4</th>\n",
       "      <td>RTNO</td>\n",
       "      <td>Привет! Мы компания RTNO, занимаемся аналитико...</td>\n",
       "      <td>FULL_TIME</td>\n",
       "      <td>Москва</td>\n",
       "      <td>['Python', 'Сбор и анализ информации', 'Анализ...</td>\n",
       "      <td>Аналитик крипто проектов</td>\n",
       "      <td>75000.0</td>\n",
       "      <td>NaN</td>\n",
       "      <td>RUR</td>\n",
       "      <td>10</td>\n",
       "      <td>Поддержание актуальных знаний о развитии рынка...</td>\n",
       "      <td>Ежедневный анализ децентрализованных и централ...</td>\n",
       "      <td>fullDay</td>\n",
       "      <td>noExperience</td>\n",
       "      <td>Аналитик</td>\n",
       "      <td>75000.0</td>\n",
       "      <td>75000.0</td>\n",
       "      <td>Москва</td>\n",
       "      <td>Аналитика</td>\n",
       "    </tr>\n",
       "  </tbody>\n",
       "</table>\n",
       "</div>"
      ],
      "text/plain": [
       "                             Организация  \\\n",
       "0  Инновационная Экологическая Платформа   \n",
       "1                             НИТУ МИСИС   \n",
       "2                       ООО «Вин-Маркет»   \n",
       "3                             Data-Power   \n",
       "4                                   RTNO   \n",
       "\n",
       "                                            Описание Тип_занятости  \\\n",
       "0  Ecoplatform - один из лидеров рынка фандоматов...     FULL_TIME   \n",
       "1  Университет науки и технологий МИСИС является ...     FULL_TIME   \n",
       "2  Кто мы: Aftermarket-DATA © — разработчик прогр...     FULL_TIME   \n",
       "3  Требуемый опыт работы: 3–6 лет Полная занятост...     FULL_TIME   \n",
       "4  Привет! Мы компания RTNO, занимаемся аналитико...     FULL_TIME   \n",
       "\n",
       "           Локация                                    Ключевые навыки  \\\n",
       "0           Москва                                          ['React']   \n",
       "1           Москва                                                 []   \n",
       "2  Нижний Новгород  ['PHP', 'Git', 'MySQL', 'Redis', 'REST', 'SOAP...   \n",
       "3  Санкт-Петербург  ['DAX', 'PostgreSQL', 'SQL', 'Power BI', 'Powe...   \n",
       "4           Москва  ['Python', 'Сбор и анализ информации', 'Анализ...   \n",
       "\n",
       "                       Вакансия     ЗП_от     ЗП_до Валюта  Профессия_id  \\\n",
       "0    Frontend developer (React)  100000.0  150000.0    RUR            96   \n",
       "1                Data Scientist  150000.0       NaN    RUR            96   \n",
       "2  Python-программист (Backend)   90000.0  120000.0    RUR            96   \n",
       "3          Разработчик Power BI  100000.0  160000.0    RUR            96   \n",
       "4      Аналитик крипто проектов   75000.0       NaN    RUR            10   \n",
       "\n",
       "                                          Требования  \\\n",
       "0  Опыт разработки мобильных приложений на React ...   \n",
       "1  Высшее образование. Качественный опыт работы в...   \n",
       "2  Python. PHP. HTML, CSS. JavaScript, jQuery. GI...   \n",
       "3  ...в <highlighttext>аналитике</highlighttext>:...   \n",
       "4  Поддержание актуальных знаний о развитии рынка...   \n",
       "\n",
       "                                         Обязанности Расписание          Опыт  \\\n",
       "0  Разработка простых интеграций для программы ло...     remote  between1And3   \n",
       "1  Участие в проектировании и реализации решений ...    fullDay  between1And3   \n",
       "2  Участвовать во всех этапах проекта: от проекти...    fullDay  between1And3   \n",
       "3  Разработка и внедрение <highlighttext>аналитик...    fullDay  between1And3   \n",
       "4  Ежедневный анализ децентрализованных и централ...    fullDay  noExperience   \n",
       "\n",
       "                  Профессия   ЗП_сред  ЗП_сред_RUB        Локация_2      Сфера  \n",
       "0  Программист, разработчик  125000.0     125000.0           Москва      Прога  \n",
       "1  Программист, разработчик  150000.0     150000.0           Москва      Прога  \n",
       "2  Программист, разработчик  105000.0     105000.0           Другое      Прога  \n",
       "3  Программист, разработчик  130000.0     130000.0  Санкт-Петербург      Прога  \n",
       "4                  Аналитик   75000.0      75000.0           Москва  Аналитика  "
      ]
     },
     "execution_count": 3,
     "metadata": {},
     "output_type": "execute_result"
    }
   ],
   "source": [
    "df.head()"
   ]
  },
  {
   "cell_type": "markdown",
   "id": "82a4400d-9877-4994-80ea-8d20f8767dc9",
   "metadata": {},
   "source": [
    "## Гипотеза №1\n",
    "\n",
    "ЗП имеет лог-нормальное распредление"
   ]
  },
  {
   "cell_type": "markdown",
   "id": "06034e69-47a8-4d5c-b203-91905491e614",
   "metadata": {},
   "source": [
    "Посмотрим на логорифм ЗП"
   ]
  },
  {
   "cell_type": "code",
   "execution_count": 4,
   "id": "53a83158-219a-4bf8-82f7-1acee25da5c0",
   "metadata": {},
   "outputs": [
    {
     "data": {
      "image/png": "[encoded data removed]",
      "text/plain": [
       "<Figure size 1500x600 with 1 Axes>"
      ]
     },
     "metadata": {},
     "output_type": "display_data"
    }
   ],
   "source": [
    "plt.figure(figsize=(15,6))\n",
    "sns.histplot(np.log(df['ЗП_сред_RUB']), bins=15, color='purple') #возьмем логорифм заработной платы\n",
    "plt.title('Гистограмма логорифма ЗП');"
   ]
  },
  {
   "cell_type": "markdown",
   "id": "669b8788-ac06-4b5d-974a-fea10cea4440",
   "metadata": {},
   "source": [
    "Удалим выбросы"
   ]
  },
  {
   "cell_type": "code",
   "execution_count": 5,
   "id": "a9e0a50b-bcca-4da4-9d60-ec24a335d3c1",
   "metadata": {},
   "outputs": [
    {
     "data": {
      "image/png": "[encoded data removed]",
      "text/plain": [
       "<Figure size 1500x600 with 1 Axes>"
      ]
     },
     "metadata": {},
     "output_type": "display_data"
    }
   ],
   "source": [
    "df_zp = df['ЗП_сред_RUB']\n",
    "df_zp_cleaned = np.log(df_zp[np.log(df_zp) > 9.5])\n",
    "\n",
    "plt.figure(figsize=(15,6))\n",
    "sns.histplot(df_zp_cleaned, bins=15, color='purple')\n",
    "plt.title('Гистограмма логорифма ЗП');"
   ]
  },
  {
   "cell_type": "markdown",
   "id": "56cefa10-828c-4353-95f2-b148ba9e31a3",
   "metadata": {},
   "source": [
    "Похоже на нормальное распредление. Посмотрим на график QQ"
   ]
  },
  {
   "cell_type": "code",
   "execution_count": 6,
   "id": "47ae2d07-3ded-49e8-9b2f-726dc6a1c414",
   "metadata": {},
   "outputs": [
    {
     "data": {
      "image/png": "[encoded data removed]",
      "text/plain": [
       "<Figure size 640x480 with 1 Axes>"
      ]
     },
     "metadata": {},
     "output_type": "display_data"
    }
   ],
   "source": [
    "stats.probplot(df_zp_cleaned, dist=\"norm\", plot=plt); #действиельно вышло похоже на нормальное распредление"
   ]
  },
  {
   "cell_type": "markdown",
   "id": "fa558965-13f5-4152-bc76-35ed06ac8694",
   "metadata": {},
   "source": [
    "Проверим нормальность распредения с помощью критерия Крамера-фон Мизеса и Андерсона-Дарлинга"
   ]
  },
  {
   "cell_type": "code",
   "execution_count": 7,
   "id": "2bc81109-2dac-4fb0-b2c3-38520d3459d5",
   "metadata": {},
   "outputs": [
    {
     "data": {
      "text/plain": [
       "AndersonResult(statistic=4.8094795876040735, critical_values=array([0.574, 0.654, 0.785, 0.915, 1.089]), significance_level=array([15. , 10. ,  5. ,  2.5,  1. ]), fit_result=  params: FitParams(loc=11.892896448271678, scale=0.6799017799165106)\n",
       " success: True\n",
       " message: '`anderson` successfully fit the distribution to the data.')"
      ]
     },
     "execution_count": 7,
     "metadata": {},
     "output_type": "execute_result"
    }
   ],
   "source": [
    "stats.anderson(df_zp_cleaned, dist='norm')"
   ]
  },
  {
   "cell_type": "markdown",
   "id": "44ff3476-2496-41d4-a18d-2560abc678d2",
   "metadata": {},
   "source": [
    "Статистика теста равна 4.81. Сравним это значение с каждым критическим, соответствующим опредленному уровню значимости. Например:\n",
    "\n",
    "Критическое значение для α = 0,01 - 1,089. Тестовая статистика превышает это критическое значения, поэтому результаты являются значимыми при уровне значимости 0,01.\n",
    "\n",
    "Критическое значение для α = 0,025 - 0,915. Тестовая статистика превышает это критическое значение, поэтому результаты являются значимыми при уровне значимости 0,025.\n",
    "\n",
    "И так далее. Таким образом, тест отклоняет нулевую гипотезу о том, что данные распредлены нормально"
   ]
  },
  {
   "cell_type": "code",
   "execution_count": 8,
   "id": "d39c54f5-6438-46d6-9a20-d97ba041e6c9",
   "metadata": {},
   "outputs": [
    {
     "data": {
      "text/plain": [
       "KstestResult(statistic=1.0, pvalue=0.0, statistic_location=9.798127036878302, statistic_sign=-1)"
      ]
     },
     "execution_count": 8,
     "metadata": {},
     "output_type": "execute_result"
    }
   ],
   "source": [
    "# Теперт воспользуемся тестом Колмогорова-Смирнова\n",
    "stats.kstest(df_zp_cleaned, 'norm')"
   ]
  },
  {
   "cell_type": "markdown",
   "id": "7a1b846e-ab6c-43d8-a81e-f329f5615bd7",
   "metadata": {},
   "source": [
    "Вывод: QQ-график показывает достаточную нормальность данных, тем не менее тесты довольно уверенно отвергают нулевую гипотезу. В целом, QQ-график показывает, что в хвостах есть отклонения от нормы. Поскольку размер выборки достаточно большой, тесты способны обнаружить даже незначительные отклонения от нормы. Гипотеза достаточно узкая, поэтому даже если она немного ложна, значение p_value будет сходится к 0. В целом, данные взяты не из нормального распредления, но они достаточно нормальны, чтобы использовать для некоторых алгоритмов."
   ]
  },
  {
   "cell_type": "markdown",
   "id": "0d6b5585-a72b-46ea-beee-c375e4d63d8a",
   "metadata": {},
   "source": [
    "### Гипотеза №2\n",
    "\n",
    "Равенство ЗП для тех, кто работает удаленно и очно.\n",
    "\n",
    "$$ H_{0}: = $$\n",
    "$$ H_{1}: ≠ $$\n",
    "\n",
    "Используем U-критерий Манна-Уитни. Уровень значимости 0.05"
   ]
  },
  {
   "cell_type": "code",
   "execution_count": 9,
   "id": "fb376797-294d-4d93-9966-1dc16dcca979",
   "metadata": {},
   "outputs": [],
   "source": [
    "ochno = df[df['Расписание'] == 'fullDay'][:495]['ЗП_сред_RUB']\n",
    "udal = df[df['Расписание'] == 'remote']['ЗП_сред_RUB']"
   ]
  },
  {
   "cell_type": "code",
   "execution_count": 10,
   "id": "b0098741-bacf-4765-810f-d5a0907a6a8c",
   "metadata": {},
   "outputs": [
    {
     "data": {
      "text/plain": [
       "MannwhitneyuResult(statistic=109843.0, pvalue=0.004829332531229576)"
      ]
     },
     "execution_count": 10,
     "metadata": {},
     "output_type": "execute_result"
    }
   ],
   "source": [
    "stats.mannwhitneyu (ochno, udal, alternative='two-sided')"
   ]
  },
  {
   "cell_type": "markdown",
   "id": "de989c82-adce-4b95-8226-6d15f91af70d",
   "metadata": {},
   "source": [
    "**Вывод:** Нулевая гипотеза отклоняется, поскольку p_value меньше уровня значимости. Таким образом, режим работы влияет на уровень ЗП, и мы это подтвердили с помощью теста."
   ]
  },
  {
   "cell_type": "markdown",
   "id": "2a84d4ed-448b-45c9-9b69-3991ac1b0bab",
   "metadata": {},
   "source": [
    "### Гипотеза №3\n",
    "\n",
    "Теперь проверим тенденцию, которую заметили в визуализации. Соотношение режимов работы fullDay/remote/part-time сохраняется независимо от Локации. Будем использовать Хи-квадрат критерий независимости. Уроверь значимости - 0.05"
   ]
  },
  {
   "cell_type": "code",
   "execution_count": 11,
   "id": "8e98c20c-6abe-4cb3-b0dd-3e545bc2bfc9",
   "metadata": {},
   "outputs": [
    {
     "data": {
      "text/html": [
       "<div>\n",
       "<style scoped>\n",
       "    .dataframe tbody tr th:only-of-type {\n",
       "        vertical-align: middle;\n",
       "    }\n",
       "\n",
       "    .dataframe tbody tr th {\n",
       "        vertical-align: top;\n",
       "    }\n",
       "\n",
       "    .dataframe thead th {\n",
       "        text-align: right;\n",
       "    }\n",
       "</style>\n",
       "<table border=\"1\" class=\"dataframe\">\n",
       "  <thead>\n",
       "    <tr style=\"text-align: right;\">\n",
       "      <th>Локация_2</th>\n",
       "      <th>Екатеринбург</th>\n",
       "      <th>Казань</th>\n",
       "      <th>Новосибирск</th>\n",
       "    </tr>\n",
       "    <tr>\n",
       "      <th>Расписание</th>\n",
       "      <th></th>\n",
       "      <th></th>\n",
       "      <th></th>\n",
       "    </tr>\n",
       "  </thead>\n",
       "  <tbody>\n",
       "    <tr>\n",
       "      <th>flexible</th>\n",
       "      <td>3</td>\n",
       "      <td>3</td>\n",
       "      <td>3</td>\n",
       "    </tr>\n",
       "    <tr>\n",
       "      <th>fullDay</th>\n",
       "      <td>24</td>\n",
       "      <td>15</td>\n",
       "      <td>25</td>\n",
       "    </tr>\n",
       "    <tr>\n",
       "      <th>remote</th>\n",
       "      <td>5</td>\n",
       "      <td>13</td>\n",
       "      <td>12</td>\n",
       "    </tr>\n",
       "  </tbody>\n",
       "</table>\n",
       "</div>"
      ],
      "text/plain": [
       "Локация_2   Екатеринбург  Казань  Новосибирск\n",
       "Расписание                                   \n",
       "flexible               3       3            3\n",
       "fullDay               24      15           25\n",
       "remote                 5      13           12"
      ]
     },
     "execution_count": 11,
     "metadata": {},
     "output_type": "execute_result"
    }
   ],
   "source": [
    "# Возьмем данные по городам с примерно одинаковым числом наблюдений\n",
    "\n",
    "check = pd.crosstab(df['Расписание'], df['Локация_2'])[['Екатеринбург', 'Казань', 'Новосибирск']]\n",
    "check"
   ]
  },
  {
   "cell_type": "code",
   "execution_count": 12,
   "id": "5d0e7c29-4e3d-4ed2-b606-be8899a182f9",
   "metadata": {},
   "outputs": [
    {
     "data": {
      "text/plain": [
       "Chi2ContingencyResult(statistic=5.672008568548386, pvalue=0.2250184206903831, dof=4, expected_freq=array([[ 2.7961165 ,  2.70873786,  3.49514563],\n",
       "       [19.88349515, 19.26213592, 24.85436893],\n",
       "       [ 9.32038835,  9.02912621, 11.65048544]]))"
      ]
     },
     "execution_count": 12,
     "metadata": {},
     "output_type": "execute_result"
    }
   ],
   "source": [
    "stats.chi2_contingency(check)"
   ]
  },
  {
   "cell_type": "markdown",
   "id": "2f6b12c6-1be3-425f-b59c-f12864dd6aa6",
   "metadata": {},
   "source": [
    "**Вывод:** p_value больше 0.05, что говорит о том, что нулевая гипотеза не отвергается, и связи между переменными нет"
   ]
  },
  {
   "cell_type": "markdown",
   "id": "e43e012a-2d90-4848-b34b-a1f957aed447",
   "metadata": {},
   "source": [
    "### Гипотеза №4 \n",
    "\n",
    "Поскольку наши данные достаточно нормальны, да и наблюдений много проверим гипотезу о том, что не менее 40 % вакансий размещенных на hh.ru в сфере IT предлагают трудоустройство в Москве.\n",
    "\n",
    "$$ H_{0}: p = 0.5 $$\n",
    "$$ H_{1}: p < 0.5 $$\n",
    "\n",
    "$$ z_{obs} = \\cfrac {\\hat {p} - p} {\\sqrt {\\cfrac {\\hat {p} (1 - \\hat {p})} {n}}} \\overset{asy}{\\sim} N(0, 1)$$\n",
    "\n",
    "Уровень значимости возьмем - 0.05."
   ]
  },
  {
   "cell_type": "code",
   "execution_count": 13,
   "id": "d5415153-0fb9-4a2b-8eb1-4b8a40d2ecc0",
   "metadata": {},
   "outputs": [
    {
     "data": {
      "text/plain": [
       "True"
      ]
     },
     "execution_count": 13,
     "metadata": {},
     "output_type": "execute_result"
    }
   ],
   "source": [
    "p = 0.4\n",
    "p_est = df[df['Локация_2'] == 'Москва'].shape[0] / df.shape[0]\n",
    "\n",
    "z_obs = (p_est - p) / pow(p_est * (1 - p_est)/df.shape[0], 1/2) \n",
    "\n",
    "alpha = 0.05\n",
    "\n",
    "z_crit = stats.norm().ppf(1 - alpha)\n",
    "\n",
    "z_obs > z_crit"
   ]
  },
  {
   "cell_type": "markdown",
   "id": "e153e3b9-88f0-451e-86fb-7b2c7b904e32",
   "metadata": {},
   "source": [
    "**Вывод:** гипотеза не отвергается на выбранном уровне значимости, действительно, не менее 40% вакансий по всем городам России приходится на Москву"
   ]
  },
  {
   "cell_type": "markdown",
   "id": "4283f7cc-abbf-400a-976e-6ea214abbdcf",
   "metadata": {},
   "source": [
    "## Гипотеза №5\n",
    "\n",
    "Среднее значение ЗП работников IT сферы равно 180.000\n",
    "\n",
    "$$ H_{0}: \\mu = 180000 $$\n",
    "$$ H_{1}: \\mu ≠ 180000 $$\n",
    "\n",
    "Уровень значимости снова 0.05"
   ]
  },
  {
   "cell_type": "code",
   "execution_count": 14,
   "id": "4b7eb7e8-2c38-4939-911a-02c691aeaaa8",
   "metadata": {},
   "outputs": [
    {
     "data": {
      "text/plain": [
       "TtestResult(statistic=0.2468248444171078, pvalue=0.8050838942540988, df=1263)"
      ]
     },
     "execution_count": 14,
     "metadata": {},
     "output_type": "execute_result"
    }
   ],
   "source": [
    "# наши данные достаточно нормальны для того, чтобы исполтзовать t_test\n",
    "\n",
    "stats.ttest_1samp (df['ЗП_сред_RUB'], popmean=180000)"
   ]
  },
  {
   "cell_type": "markdown",
   "id": "4c5fa3d8-071c-412d-81cd-35febe896a1b",
   "metadata": {},
   "source": [
    "**Вывод:** нулевая гипотеза не отвергается, и мы можем сделать вывод о том, что средняя ЗП примерно равна 180.000"
   ]
  }
 ],
 "metadata": {
  "kernelspec": {
   "display_name": "Python 3 (ipykernel)",
   "language": "python",
   "name": "python3"
  },
  "language_info": {
   "codemirror_mode": {
    "name": "ipython",
    "version": 3
   },
   "file_extension": ".py",
   "mimetype": "text/x-python",
   "name": "python",
   "nbconvert_exporter": "python",
   "pygments_lexer": "ipython3",
   "version": "3.11.7"
  }
 },
 "nbformat": 4,
 "nbformat_minor": 5
}
